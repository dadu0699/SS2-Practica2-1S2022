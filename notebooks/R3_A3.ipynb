{
 "cells": [
  {
   "cell_type": "code",
   "execution_count": 1,
   "metadata": {},
   "outputs": [
    {
     "name": "stderr",
     "output_type": "stream",
     "text": [
      "/usr/local/spark/python/pyspark/sql/context.py:77: FutureWarning: Deprecated in 3.0.0. Use SparkSession.builder.getOrCreate() instead.\n",
      "  warnings.warn(\n"
     ]
    }
   ],
   "source": [
    "from pyspark import SparkContext\n",
    "from pyspark.sql import SparkSession, SQLContext\n",
    "import plotly.graph_objects as graph_objects\n",
    "import findspark\n",
    "\n",
    "findspark.init()\n",
    "\n",
    "# spark_context = SparkContext.getOrCreate()\n",
    "spark_context = SparkContext('local', 'R3_A3')\n",
    "spark_session = SparkSession(spark_context)\n",
    "sqlContext = SQLContext(spark_context)"
   ]
  },
  {
   "cell_type": "code",
   "execution_count": 25,
   "metadata": {},
   "outputs": [],
   "source": [
    "text_file = sqlContext.read.format('com.databricks.spark.csv').\\\n",
    "    options(header='true', inferschema='true', quote='\"', delimiter=',').\\\n",
    "    load('./work/data/Covid19.csv')\n",
    "\n",
    "rddfiltro = text_file.rdd.map(tuple)\n",
    "rddGen = rddfiltro.filter(lambda word: word[3] in ['August'])\n",
    "rddGen = rddGen.map(lambda word: (word[7], word[5] + word[6]))\n",
    "# rddGen.take(10)"
   ]
  },
  {
   "cell_type": "code",
   "execution_count": 26,
   "metadata": {},
   "outputs": [
    {
     "name": "stdout",
     "output_type": "stream",
     "text": [
      "Conteo total -> [('Afghanistan', 1751), ('Argentina', 227333), ('Armenia', 5339), ('Aruba', 1884), ('Australia', 9789), ('Austria', 6224), ('Azerbaijan', 4839), ('Bahamas', 1688), ('Bahrain', 10862), ('Bangladesh', 77098), ('Barbados', 63), ('Belarus', 4145), ('Belgium', 15993), ('Belize', 957), ('Benin', 380), ('Bermuda', 13), ('Bhutan', 123), ('Bolivia', 42806), ('Bonaire, Saint Eustatius and Saba', 4), ('Bosnia_and_Herzegovina', 8609), ('Botswana', 833), ('Brazil', 1281774), ('British_Virgin_Islands', 29), ('Brunei_Darussalam', 3), ('Bulgaria', 5009), ('Burkina_Faso', 253), ('Burundi', 58), ('Cambodia', 40), ('Cameroon', 1911), ('Canada', 12343), ('Cape_Verde', 1496), ('Cayman_Islands', 2), ('Central_African_Republic', 97), ('Chad', 79), ('Chile', 58305), ('China', 2469), ('Colombia', 331472), ('Comoros', 45), ('Congo', 625), ('Costa_Rica', 22687), ('Cote_dIvoire', 1985), ('Croatia', 5092), ('Cuba', 1383), ('Curaçao', 28), ('Cyprus', 405), ('Czechia', 8069), ('Democratic_Republic_of_the_Congo', 1077), ('Denmark', 2984), ('Djibouti', 306), ('Dominica', 2), ('Dominican_Republic', 26861), ('Ecuador', 30176), ('Egypt', 5595), ('El_Salvador', 9777), ('Equatorial_Guinea', 1902), ('Eritrea', 39), ('Estonia', 323), ('Eswatini', 2035), ('Ethiopia', 35037), ('France', 91722), ('French_Polynesia', 358), ('Gabon', 1157), ('Gambia', 2648), ('Georgia', 329), ('Germany', 33840), ('Ghana', 9164), ('Gibraltar', 98), ('Greece', 5792), ('Greenland', 0), ('Grenada', 0), ('Guam', 996), ('Guatemala', 25959), ('Guernsey', 0), ('Guinea', 2142), ('Guinea_Bissau', 232), ('Guyana', 850), ('Haiti', 837), ('Holy_See', 0), ('Honduras', 19294), ('Monaco', 47), ('Mongolia', 10), ('Montenegro', 1767), ('Montserrat', 0), ('Morocco', 38905), ('Mozambique', 2025), ('Myanmar', 434), ('Namibia', 5375), ('Nepal', 19183), ('Netherlands', 16183), ('New_Caledonia', 1), ('New_Zealand', 177), ('Nicaragua', 843), ('Niger', 42), ('Nigeria', 11311), ('North_Macedonia', 3408), ('Northern_Mariana_Islands', 14), ('Norway', 1380), ('Oman', 6641), ('Pakistan', 17887), ('Palestine', 14307), ('Panama', 28472), ('Papua_New_Guinea', 390), ('Paraguay', 12249), ('Peru', 249441), ('Philippines', 129559), ('Poland', 22163), ('Portugal', 6992), ('Puerto_Rico', 16496), ('Qatar', 8141), ('Romania', 38468), ('Russia', 159118), ('Rwanda', 2037), ('Saint_Kitts_and_Nevis', 0), ('Saint_Lucia', 1), ('Saint_Vincent_and_the_Grenadines', 8), ('San_Marino', 11), ('Sao_Tome_and_Principe', 26), ('Saudi_Arabia', 41606), ('Senegal', 3530), ('Serbia', 6298), ('Seychelles', 22), ('Sierra_Leone', 207), ('Singapore', 4962), ('South_Africa', 149103), ('South_Korea', 5665), ('South_Sudan', 198), ('Spain', 174985), ('Thailand', 102), ('Vietnam', 563)]\n"
     ]
    }
   ],
   "source": [
    "rddConteo = rddGen.reduceByKey(lambda a, b: a+b)\n",
    "print(f'Conteo total -> {rddConteo.collect()}')"
   ]
  },
  {
   "cell_type": "code",
   "execution_count": 27,
   "metadata": {},
   "outputs": [
    {
     "name": "stdout",
     "output_type": "stream",
     "text": [
      "Total de casos de COVID-19 en ['Guatemala'] -> [('Guatemala', 25959)]\n"
     ]
    }
   ],
   "source": [
    "filtros = ['Guatemala']\n",
    "rddOrden = spark_context.parallelize(\n",
    "    rddConteo.filter(lambda a: a[0] in filtros).take(1))\n",
    "print(f'Total de casos de COVID-19 en {filtros} -> {rddOrden.collect()}')"
   ]
  },
  {
   "cell_type": "code",
   "execution_count": 28,
   "metadata": {},
   "outputs": [
    {
     "name": "stdout",
     "output_type": "stream",
     "text": [
      "['Guatemala']\n",
      "[25959]\n"
     ]
    }
   ],
   "source": [
    "rddNombres = rddOrden.map(lambda x: (x[0]))\n",
    "print(rddNombres.collect())\n",
    "\n",
    "rddTotales = rddOrden.map(lambda x: (x[1]))\n",
    "print(rddTotales.collect())"
   ]
  },
  {
   "cell_type": "code",
   "execution_count": 29,
   "metadata": {},
   "outputs": [],
   "source": [
    "graph = graph_objects.Figure(\n",
    "    data=graph_objects.Pie(\n",
    "        labels=rddNombres.collect(),\n",
    "        values=rddTotales.collect()\n",
    "    ))\n",
    "\n",
    "graph.update_layout(\n",
    "    title_text='Total de casos y muertes en Guatemala en el mes de Agosto',\n",
    "    title_font_size=30)\n",
    "\n",
    "graph.update_traces(\n",
    "    hoverinfo='label+percent',\n",
    "    textinfo='value',\n",
    "    textfont_size=20)\n",
    "\n",
    "graph.write_html('./work/reports/R3_A3.html', auto_open=True)"
   ]
  }
 ],
 "metadata": {
  "kernelspec": {
   "display_name": "Python 3 (ipykernel)",
   "language": "python",
   "name": "python3"
  },
  "language_info": {
   "codemirror_mode": {
    "name": "ipython",
    "version": 3
   },
   "file_extension": ".py",
   "mimetype": "text/x-python",
   "name": "python",
   "nbconvert_exporter": "python",
   "pygments_lexer": "ipython3",
   "version": "3.9.12"
  },
  "orig_nbformat": 4
 },
 "nbformat": 4,
 "nbformat_minor": 2
}
