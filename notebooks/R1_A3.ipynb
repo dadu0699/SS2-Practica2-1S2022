{
 "cells": [
  {
   "cell_type": "code",
   "execution_count": 1,
   "metadata": {},
   "outputs": [
    {
     "name": "stderr",
     "output_type": "stream",
     "text": [
      "/usr/local/spark/python/pyspark/sql/context.py:77: FutureWarning: Deprecated in 3.0.0. Use SparkSession.builder.getOrCreate() instead.\n",
      "  warnings.warn(\n"
     ]
    }
   ],
   "source": [
    "from pyspark import SparkContext\n",
    "from pyspark.sql import SparkSession, SQLContext\n",
    "import plotly.graph_objects as graph_objects\n",
    "import findspark\n",
    "\n",
    "findspark.init()\n",
    "\n",
    "# spark_context = SparkContext.getOrCreate()\n",
    "spark_context = SparkContext('local', 'R1_A3')\n",
    "spark_session = SparkSession(spark_context)\n",
    "sqlContext = SQLContext(spark_context)"
   ]
  },
  {
   "cell_type": "code",
   "execution_count": 2,
   "metadata": {},
   "outputs": [],
   "source": [
    "text_file = sqlContext.read.format('com.databricks.spark.csv').\\\n",
    "    options(header='true', inferschema='true', quote='\"', delimiter=',').\\\n",
    "    load('./work/data/Covid19.csv')\n",
    "\n",
    "rddfiltro = text_file.rdd.map(tuple)\n",
    "rddGen = rddfiltro.map(lambda word: (word[7], word[5]))\n",
    "# rddGen.take(10)"
   ]
  },
  {
   "cell_type": "code",
   "execution_count": 3,
   "metadata": {},
   "outputs": [
    {
     "name": "stdout",
     "output_type": "stream",
     "text": [
      "Conteo total -> [('Afghanistan', 31391), ('Antigua_and_Barbuda', 1), ('Argentina', 622921), ('Armenia', 47431), ('Aruba', 3551), ('Australia', 26898), ('Austria', 38557), ('Azerbaijan', 39188), ('Bahamas', 3370), ('Bahrain', 64499), ('Bangladesh', 348916), ('Barbados', 189), ('Belarus', 75674), ('Belgium', 102201), ('Belize', 1627), ('Benin', 2280), ('Bermuda', 180), ('Bhutan', 261), ('Bolivia', 130676), ('Bonaire, Saint Eustatius and Saba', 36), ('Bosnia_and_Herzegovina', 25424), ('Botswana', 2567), ('Brazil', 4544629), ('British_Virgin_Islands', 71), ('Brunei_Darussalam', 145), ('Bulgaria', 18863), ('Burkina_Faso', 1846), ('Burundi', 473), ('Cambodia', 275), ('Cameroon', 20431), ('Canada', 143649), ('Cape_Verde', 5257), ('Cases_on_an_international_conveyance_Japan', 696), ('Cayman_Islands', 209), ('Central_African_Republic', 4793), ('Chad', 1151), ('Chile', 446274), ('China', 90369), ('Colombia', 765076), ('Comoros', 470), ('Congo', 4986), ('Costa_Rica', 63712), ('Cote_dIvoire', 19320), ('Croatia', 14922), ('Cuba', 5091), ('Curaçao', 268), ('Cyprus', 1600), ('Czechia', 49240), ('Democratic_Republic_of_the_Congo', 10514), ('Denmark', 21847), ('Djibouti', 5403), ('Dominica', 24), ('Dominican_Republic', 108289), ('Ecuador', 126419), ('Egypt', 102015), ('El_Salvador', 27553), ('Equatorial_Guinea', 5002), ('Eritrea', 364), ('Estonia', 2924), ('Eswatini', 5269), ('Ethiopia', 68809), ('France', 453763), ('French_Polynesia', 1318), ('Gabon', 8696), ('Gambia', 3526), ('Georgia', 3695), ('Germany', 272337), ('Ghana', 46004), ('Gibraltar', 350), ('Greece', 15142), ('Greenland', 14), ('Grenada', 24), ('Guam', 2117), ('Guatemala', 85444), ('Guernsey', 255), ('Guinea', 10325), ('Guinea_Bissau', 2303), ('Guyana', 2269), ('Haiti', 8619), ('Holy_See', 12), ('Honduras', 71616), ('Moldova', 20794), ('Monaco', 193), ('Mongolia', 312), ('Montenegro', 8612), ('Montserrat', 13), ('Morocco', 101743), ('Mozambique', 6771), ('Myanmar', 5805), ('Namibia', 10377), ('Nepal', 64122), ('Netherlands', 93684), ('New_Caledonia', 26), ('New_Zealand', 1464), ('Nicaragua', 4961), ('Niger', 1188), ('Nigeria', 57242), ('North_Macedonia', 16735), ('Northern_Mariana_Islands', 69), ('Norway', 12645), ('Oman', 93475), ('Pakistan', 306304), ('Palestine', 45446), ('Panama', 106203), ('Papua_New_Guinea', 517), ('Paraguay', 33520), ('Peru', 768895), ('Philippines', 286743), ('Poland', 79240), ('Portugal', 68025), ('Puerto_Rico', 41838), ('Qatar', 123376), ('Romania', 112781), ('Russia', 1103399), ('Rwanda', 4711), ('Saint_Kitts_and_Nevis', 17), ('Saint_Lucia', 27), ('Saint_Vincent_and_the_Grenadines', 64), ('San_Marino', 723), ('Sao_Tome_and_Principe', 908), ('Saudi_Arabia', 329754), ('Senegal', 14714), ('Serbia', 32908), ('Seychelles', 141), ('Sierra_Leone', 2168), ('Singapore', 57576), ('South_Africa', 661211), ('South_Korea', 23045), ('South_Sudan', 2642), ('Spain', 640040), ('Thailand', 1248), ('Venezuela', 14263), ('Vietnam', 716)]\n"
     ]
    }
   ],
   "source": [
    "rddConteo = rddGen.reduceByKey(lambda a, b: a+b)\n",
    "print(f'Conteo total -> {rddConteo.collect()}')"
   ]
  },
  {
   "cell_type": "code",
   "execution_count": 4,
   "metadata": {},
   "outputs": [
    {
     "name": "stdout",
     "output_type": "stream",
     "text": [
      "Total de casos de COVID-19 en ['Cuba', 'France', 'Canada', 'Singapore', 'South_Korea'] -> [('Canada', 143649), ('Cuba', 5091), ('France', 453763), ('Singapore', 57576), ('South_Korea', 23045)]\n"
     ]
    }
   ],
   "source": [
    "filtros = ['Cuba', 'France', 'Canada', 'Singapore', 'South_Korea']\n",
    "rddOrden = spark_context.parallelize(\n",
    "    rddConteo.filter(lambda a: a[0] in filtros).take(5))\n",
    "print(f'Total de casos de COVID-19 en {filtros} -> {rddOrden.collect()}')"
   ]
  },
  {
   "cell_type": "code",
   "execution_count": 5,
   "metadata": {},
   "outputs": [
    {
     "name": "stdout",
     "output_type": "stream",
     "text": [
      "['Canada', 'Cuba', 'France', 'Singapore', 'South_Korea']\n",
      "[143649, 5091, 453763, 57576, 23045]\n"
     ]
    }
   ],
   "source": [
    "rddNombres = rddOrden.map(lambda x: (x[0]))\n",
    "print(rddNombres.collect())\n",
    "\n",
    "rddTotales = rddOrden.map(lambda x: (x[1]))\n",
    "print(rddTotales.collect())"
   ]
  },
  {
   "cell_type": "code",
   "execution_count": 7,
   "metadata": {},
   "outputs": [],
   "source": [
    "graph = graph_objects.Figure(\n",
    "    data=graph_objects.Bar(\n",
    "        x=rddNombres.collect(),\n",
    "        y=rddTotales.collect()\n",
    "    ))\n",
    "\n",
    "graph.update_layout(\n",
    "    title_text='Total de casos de COVID-19',\n",
    "    title_font_size=30,\n",
    "    yaxis=dict(title='No. Casos', title_font_size=25),\n",
    "    xaxis=dict(title='País', title_font_size=25))\n",
    "\n",
    "graph.update_traces(overwrite=True, marker={\"opacity\": 0.5})\n",
    "graph.write_html('./work/reports/R1_A3.html', auto_open=True)"
   ]
  }
 ],
 "metadata": {
  "kernelspec": {
   "display_name": "Python 3 (ipykernel)",
   "language": "python",
   "name": "python3"
  },
  "orig_nbformat": 4
 },
 "nbformat": 4,
 "nbformat_minor": 2
}
