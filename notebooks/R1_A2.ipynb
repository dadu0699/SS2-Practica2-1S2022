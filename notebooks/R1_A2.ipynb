{
 "cells": [
  {
   "cell_type": "code",
   "execution_count": 9,
   "metadata": {},
   "outputs": [],
   "source": [
    "from pyspark import SparkContext\n",
    "from pyspark.sql import SparkSession, SQLContext\n",
    "import plotly.graph_objects as graph_objects\n",
    "import findspark\n",
    "\n",
    "findspark.init()\n",
    "\n",
    "# spark_context = SparkContext.getOrCreate()\n",
    "spark_context = SparkContext('local', 'R1_A2')\n",
    "spark_session = SparkSession(spark_context)\n",
    "sqlContext = SQLContext(spark_context)"
   ]
  },
  {
   "cell_type": "code",
   "execution_count": 10,
   "metadata": {},
   "outputs": [],
   "source": [
    "text_file = sqlContext.read.format('com.databricks.spark.csv').\\\n",
    "    options(header='true', inferschema='true', quote='\"', delimiter=',').\\\n",
    "    load('./work/data/TraficoAereoGt.csv')\n",
    "\n",
    "rddfiltro = text_file.rdd.map(tuple)\n",
    "rddGen = rddfiltro.map(lambda word: (word[2], word[3]))\n",
    "# rddGen.take(10)"
   ]
  },
  {
   "cell_type": "code",
   "execution_count": 11,
   "metadata": {},
   "outputs": [
    {
     "name": "stdout",
     "output_type": "stream",
     "text": [
      "Conteo total -> [('Coatepeque', 167223), ('Huehuetenango', 198734), ('Poptun', 173559), ('Puerto Barros', 203204), ('Mundo Maya', 170385), ('La Aurora', 150513), ('Puerto San Jose', 162211), ('Quetzaltenango', 194403), ('Retalhuleu', 174374), ('San Marcos', 208806)]\n"
     ]
    }
   ],
   "source": [
    "rddConteo = rddGen.reduceByKey(lambda a, b: a+b)\n",
    "print(f'Conteo total -> {rddConteo.collect()}')"
   ]
  },
  {
   "cell_type": "code",
   "execution_count": 12,
   "metadata": {},
   "outputs": [
    {
     "name": "stdout",
     "output_type": "stream",
     "text": [
      "['Coatepeque', 'Huehuetenango', 'Poptun', 'Puerto Barros', 'Mundo Maya', 'La Aurora', 'Puerto San Jose', 'Quetzaltenango', 'Retalhuleu', 'San Marcos']\n",
      "[167223, 198734, 173559, 203204, 170385, 150513, 162211, 194403, 174374, 208806]\n"
     ]
    }
   ],
   "source": [
    "rddNombres = rddConteo.map(lambda x: (x[0]))\n",
    "print(rddNombres.collect())\n",
    "\n",
    "rddTotales = rddConteo.map(lambda x: (x[1]))\n",
    "print(rddTotales.collect())"
   ]
  },
  {
   "cell_type": "code",
   "execution_count": 13,
   "metadata": {},
   "outputs": [],
   "source": [
    "graph = graph_objects.Figure(\n",
    "    data=graph_objects.Bar(\n",
    "        x=rddNombres.collect(),\n",
    "        y=rddTotales.collect()\n",
    "    ))\n",
    "\n",
    "graph.update_layout(\n",
    "    title_text='Total de aterrizajes por Aeropuerto',\n",
    "    title_font_size=30,\n",
    "    yaxis=dict(title='No. Aterrizajes', title_font_size=25),\n",
    "    xaxis=dict(title='Aeropuerto', title_font_size=25))\n",
    "\n",
    "graph.update_traces(overwrite=True, marker={\"opacity\": 0.5})\n",
    "graph.write_html('./work/reports/R1_A2.html', auto_open=True)"
   ]
  }
 ],
 "metadata": {
  "kernelspec": {
   "display_name": "Python 3 (ipykernel)",
   "language": "python",
   "name": "python3"
  },
  "language_info": {
   "codemirror_mode": {
    "name": "ipython",
    "version": 3
   },
   "file_extension": ".py",
   "mimetype": "text/x-python",
   "name": "python",
   "nbconvert_exporter": "python",
   "pygments_lexer": "ipython3",
   "version": "3.9.12"
  },
  "orig_nbformat": 4
 },
 "nbformat": 4,
 "nbformat_minor": 2
}
