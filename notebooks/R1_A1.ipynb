{
 "cells": [
  {
   "cell_type": "code",
   "execution_count": null,
   "id": "6c38b387",
   "metadata": {},
   "outputs": [],
   "source": [
    "from pyspark import SparkContext\n",
    "from pyspark.sql import SparkSession, SQLContext\n",
    "import plotly.graph_objects as graph_objects\n",
    "import findspark\n",
    "\n",
    "findspark.init()\n",
    "\n",
    "# spark_context = SparkContext.getOrCreate()\n",
    "spark_context = SparkContext('local', 'R1_A1')\n",
    "spark_session = SparkSession(spark_context)\n",
    "sqlContext = SQLContext(spark_context)"
   ]
  },
  {
   "cell_type": "code",
   "execution_count": null,
   "id": "a475e05a-d582-41d6-bfbf-715454c83360",
   "metadata": {},
   "outputs": [],
   "source": [
    "text_file = sqlContext.read.format('com.databricks.spark.csv').\\\n",
    "    options(header='true', inferschema='true', quote='\"', delimiter=',').\\\n",
    "    load('./work/data/GuatemalaExportsTo.csv')\n",
    "\n",
    "rddfiltro = text_file.rdd.map(tuple)\n",
    "rddGen = rddfiltro.map(lambda word: (word[4], word[1]))\n",
    "# rddGen.take(10)"
   ]
  },
  {
   "cell_type": "code",
   "execution_count": null,
   "id": "67520cf0",
   "metadata": {},
   "outputs": [],
   "source": [
    "rddConteo = rddGen.reduceByKey(lambda a, b: a+b)\n",
    "print(f'Conteo total -> {rddConteo.collect()}')"
   ]
  },
  {
   "cell_type": "code",
   "execution_count": null,
   "id": "6d298080",
   "metadata": {},
   "outputs": [],
   "source": [
    "rddOrden = spark_context.parallelize(\n",
    "    rddConteo.sortBy(lambda a: a[1], False).take(1))\n",
    "print(f'País con el mayor valor por exportaciones -> {rddOrden.collect()}')"
   ]
  },
  {
   "cell_type": "code",
   "execution_count": null,
   "id": "31f94565",
   "metadata": {},
   "outputs": [],
   "source": [
    "rddNombres = rddOrden.map(lambda x: (x[0]))\n",
    "print(rddNombres.collect())\n",
    "\n",
    "rddTotales = rddOrden.map(lambda x: (x[1]))\n",
    "print(rddTotales.collect())"
   ]
  },
  {
   "cell_type": "code",
   "execution_count": null,
   "id": "1732a576",
   "metadata": {},
   "outputs": [],
   "source": [
    "graph = graph_objects.Figure(\n",
    "    data=graph_objects.Bar(\n",
    "        x=rddNombres.collect(),\n",
    "        y=rddTotales.collect()\n",
    "    ))\n",
    "\n",
    "graph.update_layout(\n",
    "    title_text='País con el mayor valor por exportaciones',\n",
    "    title_font_size=30,\n",
    "    yaxis=dict(title='No. Exportaciones', title_font_size=25),\n",
    "    xaxis=dict(title='País', title_font_size=25))\n",
    "\n",
    "graph.update_traces(overwrite=True, marker={\"opacity\": 0.5})\n",
    "graph.write_html('./work/reports/R1_A1.html', auto_open=True)"
   ]
  }
 ],
 "metadata": {
  "interpreter": {
   "hash": "95fb5757b5158adaf64dac82dbf62cbb82dcda6a945502d368ebd85d7d3db605"
  },
  "kernelspec": {
   "display_name": "Python 3 (ipykernel)",
   "language": "python",
   "name": "python3"
  }
 },
 "nbformat": 4,
 "nbformat_minor": 5
}
