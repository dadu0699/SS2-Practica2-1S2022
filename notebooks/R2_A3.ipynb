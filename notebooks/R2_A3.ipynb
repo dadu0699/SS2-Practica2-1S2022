{
 "cells": [
  {
   "cell_type": "code",
   "execution_count": null,
   "metadata": {},
   "outputs": [],
   "source": [
    "from pyspark import SparkContext\n",
    "from pyspark.sql import SparkSession, SQLContext\n",
    "import plotly.graph_objects as graph_objects\n",
    "import findspark\n",
    "\n",
    "findspark.init()\n",
    "\n",
    "# spark_context = SparkContext.getOrCreate()\n",
    "spark_context = SparkContext('local', 'R2_A3')\n",
    "spark_session = SparkSession(spark_context)\n",
    "sqlContext = SQLContext(spark_context)"
   ]
  },
  {
   "cell_type": "code",
   "execution_count": null,
   "metadata": {},
   "outputs": [],
   "source": [
    "text_file = sqlContext.read.format('com.databricks.spark.csv').\\\n",
    "    options(header='true', inferschema='true', quote='\"', delimiter=',').\\\n",
    "    load('./work/data/Covid19.csv')\n",
    "\n",
    "rddfiltro = text_file.rdd.map(tuple)\n",
    "rddGen = rddfiltro.map(lambda word: (word[3], word[5]))\n",
    "rddGen.take(10)"
   ]
  },
  {
   "cell_type": "code",
   "execution_count": null,
   "metadata": {},
   "outputs": [],
   "source": [
    "rddConteo = rddGen.reduceByKey(lambda a, b: a+b)\n",
    "print(f'Conteo total -> {rddConteo.collect()}')"
   ]
  },
  {
   "cell_type": "code",
   "execution_count": null,
   "metadata": {},
   "outputs": [],
   "source": [
    "rddOrden = spark_context.parallelize(\n",
    "    rddConteo.sortBy(lambda a: a[1], True).take(5))\n",
    "print(f'meses con menos casos de COVID -> {rddOrden.collect()}')"
   ]
  },
  {
   "cell_type": "code",
   "execution_count": null,
   "metadata": {},
   "outputs": [],
   "source": [
    "rddNombres = rddOrden.map(lambda x: (x[0]))\n",
    "print(rddNombres.collect())\n",
    "\n",
    "rddTotales = rddOrden.map(lambda x: (x[1]))\n",
    "print(rddTotales.collect())"
   ]
  },
  {
   "cell_type": "code",
   "execution_count": null,
   "metadata": {},
   "outputs": [],
   "source": [
    "graph = graph_objects.Figure(\n",
    "    data=graph_objects.Pie(\n",
    "        labels=rddNombres.collect(),\n",
    "        values=rddTotales.collect()\n",
    "    ))\n",
    "\n",
    "graph.update_layout(\n",
    "    title_text='Meses con menos casos de COVID',\n",
    "    title_font_size=30)\n",
    "\n",
    "graph.update_traces(\n",
    "    hoverinfo='label+percent',\n",
    "    textinfo='value',\n",
    "    textfont_size=20)\n",
    "\n",
    "graph.write_html('./work/reports/R2_A3.html', auto_open=True)"
   ]
  }
 ],
 "metadata": {
  "kernelspec": {
   "display_name": "Python 3 (ipykernel)",
   "language": "python",
   "name": "python3"
  },
  "orig_nbformat": 4
 },
 "nbformat": 4,
 "nbformat_minor": 2
}
