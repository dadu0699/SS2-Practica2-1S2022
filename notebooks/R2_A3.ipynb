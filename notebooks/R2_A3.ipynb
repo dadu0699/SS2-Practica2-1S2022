{
 "cells": [
  {
   "cell_type": "code",
   "execution_count": 1,
   "metadata": {},
   "outputs": [
    {
     "name": "stderr",
     "output_type": "stream",
     "text": [
      "/usr/local/spark/python/pyspark/sql/context.py:77: FutureWarning: Deprecated in 3.0.0. Use SparkSession.builder.getOrCreate() instead.\n",
      "  warnings.warn(\n"
     ]
    }
   ],
   "source": [
    "from pyspark import SparkContext\n",
    "from pyspark.sql import SparkSession, SQLContext\n",
    "import plotly.graph_objects as graph_objects\n",
    "import findspark\n",
    "\n",
    "findspark.init()\n",
    "\n",
    "# spark_context = SparkContext.getOrCreate()\n",
    "spark_context = SparkContext('local', 'R2_A3')\n",
    "spark_session = SparkSession(spark_context)\n",
    "sqlContext = SQLContext(spark_context)"
   ]
  },
  {
   "cell_type": "code",
   "execution_count": 31,
   "metadata": {},
   "outputs": [
    {
     "data": {
      "text/plain": [
       "[('September', 0),\n",
       " ('September', 125),\n",
       " ('September', 47),\n",
       " ('September', 0),\n",
       " ('September', 17),\n",
       " ('September', 40),\n",
       " ('September', 99),\n",
       " ('September', 75),\n",
       " ('September', 35),\n",
       " ('September', 34)]"
      ]
     },
     "execution_count": 31,
     "metadata": {},
     "output_type": "execute_result"
    }
   ],
   "source": [
    "text_file = sqlContext.read.format('com.databricks.spark.csv').\\\n",
    "    options(header='true', inferschema='true', quote='\"', delimiter=',').\\\n",
    "    load('./work/data/Covid19.csv')\n",
    "\n",
    "rddfiltro = text_file.rdd.map(tuple)\n",
    "rddGen = rddfiltro.map(lambda word: (word[3], word[5]))\n",
    "rddGen.take(10)"
   ]
  },
  {
   "cell_type": "code",
   "execution_count": 32,
   "metadata": {},
   "outputs": [
    {
     "name": "stdout",
     "output_type": "stream",
     "text": [
      "Conteo total -> [('September', 2374517), ('August', 3584040), ('July', 3288723), ('June', 2527885), ('May', 1555025), ('March', 324799), ('April', 868927), ('February', 73635), ('January', 9758)]\n"
     ]
    }
   ],
   "source": [
    "rddConteo = rddGen.reduceByKey(lambda a, b: a+b)\n",
    "print(f'Conteo total -> {rddConteo.collect()}')"
   ]
  },
  {
   "cell_type": "code",
   "execution_count": 33,
   "metadata": {},
   "outputs": [
    {
     "name": "stdout",
     "output_type": "stream",
     "text": [
      "meses con menos casos de COVID -> [('January', 9758), ('February', 73635), ('March', 324799), ('April', 868927), ('May', 1555025)]\n"
     ]
    }
   ],
   "source": [
    "rddOrden = spark_context.parallelize(\n",
    "    rddConteo.sortBy(lambda a: a[1], True).take(5))\n",
    "print(f'meses con menos casos de COVID -> {rddOrden.collect()}')"
   ]
  },
  {
   "cell_type": "code",
   "execution_count": 34,
   "metadata": {},
   "outputs": [
    {
     "name": "stdout",
     "output_type": "stream",
     "text": [
      "['January', 'February', 'March', 'April', 'May']\n",
      "[9758, 73635, 324799, 868927, 1555025]\n"
     ]
    }
   ],
   "source": [
    "rddNombres = rddOrden.map(lambda x: (x[0]))\n",
    "print(rddNombres.collect())\n",
    "\n",
    "rddTotales = rddOrden.map(lambda x: (x[1]))\n",
    "print(rddTotales.collect())"
   ]
  },
  {
   "cell_type": "code",
   "execution_count": 35,
   "metadata": {},
   "outputs": [],
   "source": [
    "graph = graph_objects.Figure(\n",
    "    data=graph_objects.Pie(\n",
    "        labels=rddNombres.collect(),\n",
    "        values=rddTotales.collect()\n",
    "    ))\n",
    "\n",
    "graph.update_layout(\n",
    "    title_text='Meses con menos casos de COVID',\n",
    "    title_font_size=30)\n",
    "\n",
    "graph.update_traces(\n",
    "    hoverinfo='label+percent',\n",
    "    textinfo='value',\n",
    "    textfont_size=20)\n",
    "\n",
    "graph.write_html('./work/reports/R2_A3.html', auto_open=True)"
   ]
  }
 ],
 "metadata": {
  "kernelspec": {
   "display_name": "Python 3 (ipykernel)",
   "language": "python",
   "name": "python3"
  },
  "language_info": {
   "codemirror_mode": {
    "name": "ipython",
    "version": 3
   },
   "file_extension": ".py",
   "mimetype": "text/x-python",
   "name": "python",
   "nbconvert_exporter": "python",
   "pygments_lexer": "ipython3",
   "version": "3.9.12"
  },
  "orig_nbformat": 4
 },
 "nbformat": 4,
 "nbformat_minor": 2
}
